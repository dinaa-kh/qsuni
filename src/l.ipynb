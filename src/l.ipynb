{
 "cells": [
  {
   "cell_type": "code",
   "execution_count": 10,
   "metadata": {},
   "outputs": [],
   "source": [
    "x = 6\n",
    "\n"
   ]
  },
  {
   "cell_type": "code",
   "execution_count": 2,
   "metadata": {},
   "outputs": [],
   "source": [
    "import pandas as pd\n",
    "import numpy as np\n",
    "import seaborn as sns"
   ]
  },
  {
   "cell_type": "code",
   "execution_count": 6,
   "metadata": {},
   "outputs": [],
   "source": [
    "df= pd.read_csv (\"2023-QS-World-University-Rankings.csv\", encoding='unicode_escape')\n"
   ]
  },
  {
   "cell_type": "code",
   "execution_count": 7,
   "metadata": {},
   "outputs": [
    {
     "data": {
      "text/plain": [
       "<bound method NDFrame.head of      Rank2023;Rank2022;InstitutionName;location code;location;size;focus;research;age band;status;ar score;ar rank;er score;er rank;fsr score;fsr rank;cpf score;cpf rank;ifr score;ifr rank;isr score;isr rank;irn score;irn rank;ger score;ger rank;score scaled\n",
       "0     1;1;Massachusetts Institute of Technology (MIT...                                                                                                                                                                                                           \n",
       "1     2;  3=;University of Cambridge;UK;United Kingd...                                                                                                                                                                                                           \n",
       "2     3;  3=;Stanford University;US;United States;L;...                                                                                                                                                                                                           \n",
       "3     4;2;University of Oxford;UK;United Kingdom;L;F...                                                                                                                                                                                                           \n",
       "4     5;5;Harvard University;US;United States;L;FC;V...                                                                                                                                                                                                           \n",
       "...                                                 ...                                                                                                                                                                                                           \n",
       "1417  1401+;1201+;Universidad Nacional Aut¢noma de H...                                                                                                                                                                                                           \n",
       "1418  1401+;1201+;Universidad Tecnol¢gica de Bol¡var...                                                                                                                                                                                                           \n",
       "1419  1401+;1201+;Universit Mohammed V de Rabat;MA;...                                                                                                                                                                                                           \n",
       "1420  1401+;;University of Craiova;RO;Romania;L;CO;H...                                                                                                                                                                                                           \n",
       "1421  1401+;;University of Oradea;RO;Romania;L;FC;MD...                                                                                                                                                                                                           \n",
       "\n",
       "[1422 rows x 1 columns]>"
      ]
     },
     "execution_count": 7,
     "metadata": {},
     "output_type": "execute_result"
    }
   ],
   "source": [
    "df.head"
   ]
  },
  {
   "cell_type": "code",
   "execution_count": 8,
   "metadata": {},
   "outputs": [
    {
     "data": {
      "text/plain": [
       "(1422, 1)"
      ]
     },
     "execution_count": 8,
     "metadata": {},
     "output_type": "execute_result"
    }
   ],
   "source": [
    "df.shape\n"
   ]
  },
  {
   "cell_type": "code",
   "execution_count": 12,
   "metadata": {},
   "outputs": [
    {
     "data": {
      "text/plain": [
       "Index(['Rank2023;Rank2022;InstitutionName;location code;location;size;focus;research;age band;status;ar score;ar rank;er score;er rank;fsr score;fsr rank;cpf score;cpf rank;ifr score;ifr rank;isr score;isr rank;irn score;irn rank;ger score;ger rank;score scaled'], dtype='object')"
      ]
     },
     "execution_count": 12,
     "metadata": {},
     "output_type": "execute_result"
    }
   ],
   "source": [
    "df.columns"
   ]
  },
  {
   "cell_type": "code",
   "execution_count": null,
   "metadata": {},
   "outputs": [],
   "source": []
  },
  {
   "cell_type": "code",
   "execution_count": 19,
   "metadata": {},
   "outputs": [
    {
     "ename": "SyntaxError",
     "evalue": "invalid syntax (4138037430.py, line 1)",
     "output_type": "error",
     "traceback": [
      "\u001b[0;36m  Input \u001b[0;32mIn [19]\u001b[0;36m\u001b[0m\n\u001b[0;31m    df= df.Rank2023;Rank2022;InstitutionName;location code;location;size;focus;research;age band;status;ar score;ar rank;er score;er rank;fsr score;fsr rank;cpf score;cpf rank;ifr score;ifr rank;isr score;isr rank;irn score;irn rank;ger score;ger rank;score scaled(\";\", expand=True)\u001b[0m\n\u001b[0m                                                      ^\u001b[0m\n\u001b[0;31mSyntaxError\u001b[0m\u001b[0;31m:\u001b[0m invalid syntax\n"
     ]
    }
   ],
   "source": [
    "df= df.Rank2023;Rank2022;InstitutionName;location code;location;size;focus;research;age band;status;ar score;ar rank;er score;er rank;fsr score;fsr rank;cpf score;cpf rank;ifr score;ifr rank;isr score;isr rank;irn score;irn rank;ger score;ger rank;score scaled(\";\", expand=True)"
   ]
  },
  {
   "cell_type": "code",
   "execution_count": null,
   "metadata": {},
   "outputs": [],
   "source": []
  }
 ],
 "metadata": {
  "kernelspec": {
   "display_name": "Python 3.8.3 64-bit",
   "language": "python",
   "name": "python3"
  },
  "language_info": {
   "codemirror_mode": {
    "name": "ipython",
    "version": 3
   },
   "file_extension": ".py",
   "mimetype": "text/x-python",
   "name": "python",
   "nbconvert_exporter": "python",
   "pygments_lexer": "ipython3",
   "version": "3.8.3"
  },
  "orig_nbformat": 4,
  "vscode": {
   "interpreter": {
    "hash": "aee8b7b246df8f9039afb4144a1f6fd8d2ca17a180786b69acc140d282b71a49"
   }
  }
 },
 "nbformat": 4,
 "nbformat_minor": 2
}
