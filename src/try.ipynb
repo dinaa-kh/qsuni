{
 "cells": [
  {
   "cell_type": "code",
   "execution_count": 27,
   "metadata": {},
   "outputs": [],
   "source": [
    "import pandas as pd\n",
    "import numpy as np\n",
    "import seaborn as sns\n",
    "import matplotlib.pyplot as plt\n"
   ]
  },
  {
   "cell_type": "code",
   "execution_count": 2,
   "metadata": {},
   "outputs": [],
   "source": [
    "df = pd.read_csv (\"23qs.csv\")"
   ]
  },
  {
   "cell_type": "code",
   "execution_count": 5,
   "metadata": {},
   "outputs": [
    {
     "data": {
      "text/html": [
       "<div>\n",
       "<style scoped>\n",
       "    .dataframe tbody tr th:only-of-type {\n",
       "        vertical-align: middle;\n",
       "    }\n",
       "\n",
       "    .dataframe tbody tr th {\n",
       "        vertical-align: top;\n",
       "    }\n",
       "\n",
       "    .dataframe thead th {\n",
       "        text-align: right;\n",
       "    }\n",
       "</style>\n",
       "<table border=\"1\" class=\"dataframe\">\n",
       "  <thead>\n",
       "    <tr style=\"text-align: right;\">\n",
       "      <th></th>\n",
       "      <th>Rank</th>\n",
       "      <th>Institution</th>\n",
       "      <th>LocationCode</th>\n",
       "      <th>Location</th>\n",
       "      <th>ArScore</th>\n",
       "      <th>ArRank</th>\n",
       "      <th>ErScore</th>\n",
       "      <th>ErRank</th>\n",
       "      <th>FsrScore</th>\n",
       "      <th>FsrRank</th>\n",
       "      <th>...</th>\n",
       "      <th>CpfRank</th>\n",
       "      <th>IfrScore</th>\n",
       "      <th>IfrRank</th>\n",
       "      <th>IsrScore</th>\n",
       "      <th>IsrRank</th>\n",
       "      <th>IrnScore</th>\n",
       "      <th>IrnRank</th>\n",
       "      <th>GerScore</th>\n",
       "      <th>GerRank</th>\n",
       "      <th>ScoreScaled</th>\n",
       "    </tr>\n",
       "  </thead>\n",
       "  <tbody>\n",
       "    <tr>\n",
       "      <th>0</th>\n",
       "      <td>1</td>\n",
       "      <td>Massachusetts Institute of Technology (MIT)</td>\n",
       "      <td>US</td>\n",
       "      <td>United States</td>\n",
       "      <td>100.0</td>\n",
       "      <td>5</td>\n",
       "      <td>100.0</td>\n",
       "      <td>4</td>\n",
       "      <td>100.0</td>\n",
       "      <td>14</td>\n",
       "      <td>...</td>\n",
       "      <td>5</td>\n",
       "      <td>100.0</td>\n",
       "      <td>54</td>\n",
       "      <td>90.0</td>\n",
       "      <td>109</td>\n",
       "      <td>96.1</td>\n",
       "      <td>58</td>\n",
       "      <td>100.0</td>\n",
       "      <td>3</td>\n",
       "      <td>100</td>\n",
       "    </tr>\n",
       "    <tr>\n",
       "      <th>1</th>\n",
       "      <td>2</td>\n",
       "      <td>University of Cambridge</td>\n",
       "      <td>UK</td>\n",
       "      <td>United Kingdom</td>\n",
       "      <td>100.0</td>\n",
       "      <td>2</td>\n",
       "      <td>100.0</td>\n",
       "      <td>2</td>\n",
       "      <td>100.0</td>\n",
       "      <td>11</td>\n",
       "      <td>...</td>\n",
       "      <td>55</td>\n",
       "      <td>100.0</td>\n",
       "      <td>60</td>\n",
       "      <td>96.3</td>\n",
       "      <td>70</td>\n",
       "      <td>99.5</td>\n",
       "      <td>6</td>\n",
       "      <td>100.0</td>\n",
       "      <td>9</td>\n",
       "      <td>98.8</td>\n",
       "    </tr>\n",
       "    <tr>\n",
       "      <th>2</th>\n",
       "      <td>3</td>\n",
       "      <td>Stanford University</td>\n",
       "      <td>US</td>\n",
       "      <td>United States</td>\n",
       "      <td>100.0</td>\n",
       "      <td>4</td>\n",
       "      <td>100.0</td>\n",
       "      <td>5</td>\n",
       "      <td>100.0</td>\n",
       "      <td>6</td>\n",
       "      <td>...</td>\n",
       "      <td>9</td>\n",
       "      <td>99.8</td>\n",
       "      <td>74</td>\n",
       "      <td>60.3</td>\n",
       "      <td>235</td>\n",
       "      <td>96.3</td>\n",
       "      <td>55</td>\n",
       "      <td>100.0</td>\n",
       "      <td>2</td>\n",
       "      <td>98.5</td>\n",
       "    </tr>\n",
       "    <tr>\n",
       "      <th>3</th>\n",
       "      <td>4</td>\n",
       "      <td>University of Oxford</td>\n",
       "      <td>UK</td>\n",
       "      <td>United Kingdom</td>\n",
       "      <td>100.0</td>\n",
       "      <td>3</td>\n",
       "      <td>100.0</td>\n",
       "      <td>3</td>\n",
       "      <td>100.0</td>\n",
       "      <td>8</td>\n",
       "      <td>...</td>\n",
       "      <td>64</td>\n",
       "      <td>98.8</td>\n",
       "      <td>101</td>\n",
       "      <td>98.4</td>\n",
       "      <td>54</td>\n",
       "      <td>99.9</td>\n",
       "      <td>3</td>\n",
       "      <td>100.0</td>\n",
       "      <td>7</td>\n",
       "      <td>98.4</td>\n",
       "    </tr>\n",
       "    <tr>\n",
       "      <th>4</th>\n",
       "      <td>5</td>\n",
       "      <td>Harvard University</td>\n",
       "      <td>US</td>\n",
       "      <td>United States</td>\n",
       "      <td>100.0</td>\n",
       "      <td>1</td>\n",
       "      <td>100.0</td>\n",
       "      <td>1</td>\n",
       "      <td>99.4</td>\n",
       "      <td>35</td>\n",
       "      <td>...</td>\n",
       "      <td>2</td>\n",
       "      <td>76.9</td>\n",
       "      <td>228</td>\n",
       "      <td>66.9</td>\n",
       "      <td>212</td>\n",
       "      <td>100.0</td>\n",
       "      <td>1</td>\n",
       "      <td>100.0</td>\n",
       "      <td>1</td>\n",
       "      <td>97.6</td>\n",
       "    </tr>\n",
       "  </tbody>\n",
       "</table>\n",
       "<p>5 rows × 21 columns</p>\n",
       "</div>"
      ],
      "text/plain": [
       "   Rank                                   Institution LocationCode  \\\n",
       "0     1  Massachusetts Institute of Technology (MIT)            US   \n",
       "1     2                       University of Cambridge           UK   \n",
       "2     3                           Stanford University           US   \n",
       "3     4                          University of Oxford           UK   \n",
       "4     5                            Harvard University           US   \n",
       "\n",
       "         Location  ArScore ArRank  ErScore ErRank  FsrScore FsrRank  ...  \\\n",
       "0   United States    100.0      5    100.0      4     100.0      14  ...   \n",
       "1  United Kingdom    100.0      2    100.0      2     100.0      11  ...   \n",
       "2   United States    100.0      4    100.0      5     100.0       6  ...   \n",
       "3  United Kingdom    100.0      3    100.0      3     100.0       8  ...   \n",
       "4   United States    100.0      1    100.0      1      99.4      35  ...   \n",
       "\n",
       "   CpfRank IfrScore  IfrRank IsrScore  IsrRank IrnScore  IrnRank GerScore  \\\n",
       "0        5    100.0       54     90.0      109     96.1       58    100.0   \n",
       "1       55    100.0       60     96.3       70     99.5        6    100.0   \n",
       "2        9     99.8       74     60.3      235     96.3       55    100.0   \n",
       "3       64     98.8      101     98.4       54     99.9        3    100.0   \n",
       "4        2     76.9      228     66.9      212    100.0        1    100.0   \n",
       "\n",
       "   GerRank ScoreScaled  \n",
       "0        3         100  \n",
       "1        9        98.8  \n",
       "2        2        98.5  \n",
       "3        7        98.4  \n",
       "4        1        97.6  \n",
       "\n",
       "[5 rows x 21 columns]"
      ]
     },
     "execution_count": 5,
     "metadata": {},
     "output_type": "execute_result"
    }
   ],
   "source": [
    "df.head()"
   ]
  },
  {
   "cell_type": "code",
   "execution_count": 7,
   "metadata": {},
   "outputs": [
    {
     "data": {
      "text/plain": [
       "Index(['rank', 'institution', 'locationcode', 'location', 'arscore', 'arrank',\n",
       "       'erscore', 'errank', 'fsrscore', 'fsrrank', 'cpfscore', 'cpfrank',\n",
       "       'ifrscore', 'ifrrank', 'isrscore', 'isrrank', 'irnscore', 'irnrank',\n",
       "       'gerscore', 'gerrank', 'scorescaled'],\n",
       "      dtype='object')"
      ]
     },
     "execution_count": 7,
     "metadata": {},
     "output_type": "execute_result"
    }
   ],
   "source": [
    "df.rename(columns = str.lower, inplace = True)\n",
    "df.columns"
   ]
  },
  {
   "cell_type": "code",
   "execution_count": 8,
   "metadata": {},
   "outputs": [
    {
     "name": "stdout",
     "output_type": "stream",
     "text": [
      "<class 'pandas.core.frame.DataFrame'>\n",
      "RangeIndex: 1422 entries, 0 to 1421\n",
      "Data columns (total 21 columns):\n",
      " #   Column        Non-Null Count  Dtype  \n",
      "---  ------        --------------  -----  \n",
      " 0   rank          1422 non-null   int64  \n",
      " 1   institution   1422 non-null   object \n",
      " 2   locationcode  1422 non-null   object \n",
      " 3   location      1422 non-null   object \n",
      " 4   arscore       1422 non-null   float64\n",
      " 5   arrank        1422 non-null   object \n",
      " 6   erscore       1421 non-null   float64\n",
      " 7   errank        1422 non-null   object \n",
      " 8   fsrscore      1420 non-null   float64\n",
      " 9   fsrrank       1422 non-null   object \n",
      " 10  cpfscore      1417 non-null   float64\n",
      " 11  cpfrank       1422 non-null   object \n",
      " 12  ifrscore      1324 non-null   float64\n",
      " 13  ifrrank       1324 non-null   object \n",
      " 14  isrscore      1365 non-null   float64\n",
      " 15  isrrank       1365 non-null   object \n",
      " 16  irnscore      1409 non-null   float64\n",
      " 17  irnrank       1409 non-null   object \n",
      " 18  gerscore      1410 non-null   float64\n",
      " 19  gerrank       1410 non-null   object \n",
      " 20  scorescaled   1422 non-null   object \n",
      "dtypes: float64(8), int64(1), object(12)\n",
      "memory usage: 233.4+ KB\n"
     ]
    }
   ],
   "source": [
    "df.info()"
   ]
  },
  {
   "cell_type": "code",
   "execution_count": 9,
   "metadata": {},
   "outputs": [
    {
     "data": {
      "text/plain": [
       "rank             0\n",
       "institution      0\n",
       "locationcode     0\n",
       "location         0\n",
       "arscore          0\n",
       "arrank           0\n",
       "erscore          1\n",
       "errank           0\n",
       "fsrscore         2\n",
       "fsrrank          0\n",
       "cpfscore         5\n",
       "cpfrank          0\n",
       "ifrscore        98\n",
       "ifrrank         98\n",
       "isrscore        57\n",
       "isrrank         57\n",
       "irnscore        13\n",
       "irnrank         13\n",
       "gerscore        12\n",
       "gerrank         12\n",
       "scorescaled      0\n",
       "dtype: int64"
      ]
     },
     "execution_count": 9,
     "metadata": {},
     "output_type": "execute_result"
    }
   ],
   "source": [
    "df.isna().sum()"
   ]
  },
  {
   "cell_type": "code",
   "execution_count": 10,
   "metadata": {},
   "outputs": [],
   "source": [
    "df.fillna(value= \"no-info\", inplace = True)"
   ]
  },
  {
   "cell_type": "code",
   "execution_count": 11,
   "metadata": {},
   "outputs": [
    {
     "data": {
      "text/plain": [
       "(1422, 21)"
      ]
     },
     "execution_count": 11,
     "metadata": {},
     "output_type": "execute_result"
    }
   ],
   "source": [
    "df.shape"
   ]
  },
  {
   "cell_type": "code",
   "execution_count": 12,
   "metadata": {},
   "outputs": [],
   "source": [
    "df.drop_duplicates(subset = \"rank\",\n",
    "                    keep = False,\n",
    "                    inplace= True)"
   ]
  },
  {
   "cell_type": "code",
   "execution_count": 13,
   "metadata": {},
   "outputs": [
    {
     "data": {
      "text/plain": [
       "(1422, 21)"
      ]
     },
     "execution_count": 13,
     "metadata": {},
     "output_type": "execute_result"
    }
   ],
   "source": [
    "df.shape"
   ]
  },
  {
   "cell_type": "code",
   "execution_count": 14,
   "metadata": {},
   "outputs": [],
   "source": [
    "top_400_QS = df.head(400)"
   ]
  },
  {
   "cell_type": "code",
   "execution_count": 15,
   "metadata": {},
   "outputs": [],
   "source": [
    "top_100_QS = df.head(100)"
   ]
  },
  {
   "cell_type": "code",
   "execution_count": 16,
   "metadata": {},
   "outputs": [],
   "source": [
    "top_10_QS = df.head(10)"
   ]
  },
  {
   "cell_type": "code",
   "execution_count": 25,
   "metadata": {},
   "outputs": [],
   "source": [
    "countries = df.groupby(\"location\") \\\n",
    "    .agg({\"location\" : \"count\"}) \\\n",
    "    .rename(columns = {\"location\" : \"number-of-universities\"}) \\\n",
    "    .sort_values(by = \"number-of-universities\" ,\n",
    "                         ascending = False ) \\\n",
    "    .head(10) \\\n",
    "    .reset_index()\n"
   ]
  },
  {
   "cell_type": "code",
   "execution_count": 26,
   "metadata": {},
   "outputs": [
    {
     "data": {
      "text/html": [
       "<div>\n",
       "<style scoped>\n",
       "    .dataframe tbody tr th:only-of-type {\n",
       "        vertical-align: middle;\n",
       "    }\n",
       "\n",
       "    .dataframe tbody tr th {\n",
       "        vertical-align: top;\n",
       "    }\n",
       "\n",
       "    .dataframe thead th {\n",
       "        text-align: right;\n",
       "    }\n",
       "</style>\n",
       "<table border=\"1\" class=\"dataframe\">\n",
       "  <thead>\n",
       "    <tr style=\"text-align: right;\">\n",
       "      <th></th>\n",
       "      <th>location</th>\n",
       "      <th>number-of-universities</th>\n",
       "    </tr>\n",
       "  </thead>\n",
       "  <tbody>\n",
       "    <tr>\n",
       "      <th>0</th>\n",
       "      <td>United States</td>\n",
       "      <td>201</td>\n",
       "    </tr>\n",
       "    <tr>\n",
       "      <th>1</th>\n",
       "      <td>United Kingdom</td>\n",
       "      <td>90</td>\n",
       "    </tr>\n",
       "    <tr>\n",
       "      <th>2</th>\n",
       "      <td>China (Mainland)</td>\n",
       "      <td>71</td>\n",
       "    </tr>\n",
       "    <tr>\n",
       "      <th>3</th>\n",
       "      <td>Japan</td>\n",
       "      <td>50</td>\n",
       "    </tr>\n",
       "    <tr>\n",
       "      <th>4</th>\n",
       "      <td>Russia</td>\n",
       "      <td>48</td>\n",
       "    </tr>\n",
       "    <tr>\n",
       "      <th>5</th>\n",
       "      <td>Germany</td>\n",
       "      <td>46</td>\n",
       "    </tr>\n",
       "    <tr>\n",
       "      <th>6</th>\n",
       "      <td>India</td>\n",
       "      <td>41</td>\n",
       "    </tr>\n",
       "    <tr>\n",
       "      <th>7</th>\n",
       "      <td>South Korea</td>\n",
       "      <td>41</td>\n",
       "    </tr>\n",
       "    <tr>\n",
       "      <th>8</th>\n",
       "      <td>Italy</td>\n",
       "      <td>41</td>\n",
       "    </tr>\n",
       "    <tr>\n",
       "      <th>9</th>\n",
       "      <td>Australia</td>\n",
       "      <td>38</td>\n",
       "    </tr>\n",
       "  </tbody>\n",
       "</table>\n",
       "</div>"
      ],
      "text/plain": [
       "           location  number-of-universities\n",
       "0     United States                     201\n",
       "1    United Kingdom                      90\n",
       "2  China (Mainland)                      71\n",
       "3             Japan                      50\n",
       "4            Russia                      48\n",
       "5           Germany                      46\n",
       "6             India                      41\n",
       "7       South Korea                      41\n",
       "8             Italy                      41\n",
       "9         Australia                      38"
      ]
     },
     "execution_count": 26,
     "metadata": {},
     "output_type": "execute_result"
    }
   ],
   "source": [
    "countries"
   ]
  },
  {
   "cell_type": "code",
   "execution_count": 29,
   "metadata": {},
   "outputs": [],
   "source": [
    "#display the values on a seaborn barplot\n",
    "def show_values(axs, orient = 'v', space=.1):\n",
    "    def _single(ax):\n",
    "        if orient == 'v':\n",
    "            for p in ax.patches:\n",
    "                _x = p.get_x() + p.get_width() / 2\n",
    "                _y = p.get_y() + p.get_height() + (p.get_height() * 0.01)\n",
    "                value = '{:.1f}'.format(p.get_height())\n",
    "                ax.text(_x, _y, value, ha = 'center') \n",
    "        elif orient == 'h':\n",
    "            for p in ax.patches:\n",
    "                _x = p.get_x() + p.get_width() + float(space)\n",
    "                _y = p.get_y() + p.get_height() - (p.get_height() * 0.5)\n",
    "                value = '{:.1f}'.format(p.get_width())\n",
    "                ax.text(_x, _y, value, ha = 'left')\n",
    "\n",
    "    if isinstance(axs, np.ndarray):\n",
    "        for idx, ax in np.ndenumerate(axs):\n",
    "            _single(ax)\n",
    "    else:\n",
    "        _single(axs)"
   ]
  },
  {
   "cell_type": "code",
   "execution_count": 30,
   "metadata": {},
   "outputs": [
    {
     "data": {
      "image/png": "[encoded data removed]",
      "text/plain": [
       "<Figure size 864x504 with 1 Axes>"
      ]
     },
     "metadata": {},
     "output_type": "display_data"
    }
   ],
   "source": [
    "sns.set(rc = {\"figure.figsize\" : (12,7) }, font_scale = 1)\n",
    "universities_by_country_graph = sns.barplot(data = countries,\n",
    "                            x = \"location\" , \n",
    "                            y = \"number-of-universities\")\n",
    "plt.xticks(rotation = 20)\n",
    "plt.tight_layout()\n",
    "plt.xlabel(\"\")\n",
    "plt.ylabel(\"\")\n",
    "plt.title(\"countries with most universities\")\n",
    "\n",
    "\n",
    "show_values(universities_by_country_graph)\n",
    "sns.despine()\n"
   ]
  },
  {
   "cell_type": "code",
   "execution_count": 32,
   "metadata": {},
   "outputs": [
    {
     "data": {
      "text/plain": [
       "Text(0.5, 1.0, 'Percentage of universties QS 2023')"
      ]
     },
     "execution_count": 32,
     "metadata": {},
     "output_type": "execute_result"
    },
    {
     "data": {
      "image/png": "[encoded data removed]",
      "text/plain": [
       "<Figure size 720x720 with 1 Axes>"
      ]
     },
     "metadata": {},
     "output_type": "display_data"
    }
   ],
   "source": [
    "countries.set_index('location').plot(kind = 'pie', \n",
    "                                                     y = 'number-of-universities', \n",
    "                                                     autopct='%.1f%%', figsize = (10,10), \n",
    "                                                     legend = None)\n",
    "plt.ylabel('')\n",
    "plt.title('Percentage of universties QS 2023')"
   ]
  },
  {
   "cell_type": "markdown",
   "metadata": {},
   "source": [
    "As we can see Most universities are from the US"
   ]
  },
  {
   "cell_type": "code",
   "execution_count": null,
   "metadata": {},
   "outputs": [],
   "source": []
  }
 ],
 "metadata": {
  "kernelspec": {
   "display_name": "Python 3.8.3 64-bit",
   "language": "python",
   "name": "python3"
  },
  "language_info": {
   "codemirror_mode": {
    "name": "ipython",
    "version": 3
   },
   "file_extension": ".py",
   "mimetype": "text/x-python",
   "name": "python",
   "nbconvert_exporter": "python",
   "pygments_lexer": "ipython3",
   "version": "3.8.3"
  },
  "orig_nbformat": 4,
  "vscode": {
   "interpreter": {
    "hash": "aee8b7b246df8f9039afb4144a1f6fd8d2ca17a180786b69acc140d282b71a49"
   }
  }
 },
 "nbformat": 4,
 "nbformat_minor": 2
}
